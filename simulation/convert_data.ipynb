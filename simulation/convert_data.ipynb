{
 "cells": [
  {
   "cell_type": "code",
   "execution_count": 2,
   "id": "d074e320-f7f9-4bde-a42a-4d86c1811ce4",
   "metadata": {},
   "outputs": [],
   "source": [
    "import numpy as np\n",
    "import pyreadr"
   ]
  },
  {
   "cell_type": "markdown",
   "id": "e0866f08-76e7-4b76-8bd6-31b055d92c7f",
   "metadata": {},
   "source": [
    "# Save Single model\n",
    "\n",
    "By specifying the model and path, one can transform simulations from the R.script into corresponding numpy files, useable for pytorch."
   ]
  },
  {
   "cell_type": "code",
   "execution_count": 2,
   "id": "3194f2bf-76f4-4e6d-b5e4-4956e035ede4",
   "metadata": {},
   "outputs": [],
   "source": [
    "dir = \"application\"\n",
    "path = f'../data/{dir}/data/'"
   ]
  },
  {
   "cell_type": "code",
   "execution_count": 4,
   "id": "b6cb2aa6-4f07-4d2e-a49b-796529bd34d4",
   "metadata": {},
   "outputs": [],
   "source": [
    "# Train test split\n",
    "split = 4000\n",
    "# Image size\n",
    "img_size = 30\n",
    "\n",
    "for model in [\"brown\", \"powexp\"]:\n",
    "    params = pyreadr.read_r(path+f\"{model}_train_params.RData\")[\"train_params\"]\n",
    "    data = pyreadr.read_r(path+f\"{model}_train_data.RData\")[\"train_data\"].to_numpy()\n",
    "    #Train/val\n",
    "    train_params = params.loc[0:(split-1),].to_numpy()\n",
    "    val_params =params.loc[split:,].to_numpy()\n",
    "    train_data =data[:,0:split]\n",
    "    train_data = np.reshape(np.swapaxes(train_data, 0,1), newshape = (-1, img_size, img_size))\n",
    "    val_data = data[:,split:]\n",
    "    val_data = np.reshape(np.swapaxes(val_data, 0,1), newshape = (-1, img_size, img_size))\n",
    "    #Test\n",
    "    test_params = pyreadr.read_r(path+f\"{model}_test_params.RData\")[\"test_params\"].to_numpy()\n",
    "    test_data = pyreadr.read_r(path+f\"{model}_test_data.RData\")[\"test_data\"].to_numpy()\n",
    "    test_data = np.reshape(np.swapaxes(test_data, 0,1), newshape = (-1, img_size, img_size))\n",
    "    \n",
    "    np.save(path+f\"{model}_train_params\", train_params)\n",
    "    np.save(path+f\"{model}_val_params\", val_params)\n",
    "    np.save(path+f\"{model}_train_data\", train_data)\n",
    "    np.save(path+f\"{model}_val_data\", val_data)\n",
    "    np.save(path+f\"{model}_test_params\", test_params)\n",
    "    np.save(path+f\"{model}_test_data\", test_data)"
   ]
  }
 ],
 "metadata": {
  "kernelspec": {
   "display_name": "Python 3 (ipykernel)",
   "language": "python",
   "name": "python3"
  },
  "language_info": {
   "codemirror_mode": {
    "name": "ipython",
    "version": 3
   },
   "file_extension": ".py",
   "mimetype": "text/x-python",
   "name": "python",
   "nbconvert_exporter": "python",
   "pygments_lexer": "ipython3",
   "version": "3.11.5"
  }
 },
 "nbformat": 4,
 "nbformat_minor": 5
}
