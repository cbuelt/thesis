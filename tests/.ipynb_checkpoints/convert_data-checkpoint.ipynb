{
 "cells": [
  {
   "cell_type": "code",
   "execution_count": 1,
   "id": "d074e320-f7f9-4bde-a42a-4d86c1811ce4",
   "metadata": {},
   "outputs": [],
   "source": [
    "import numpy as np\n",
    "import pandas as pd\n",
    "import pyreadr\n",
    "import os"
   ]
  },
  {
   "cell_type": "code",
   "execution_count": 2,
   "id": "c4231bbd-4587-42e2-981f-e27f5e152b7e",
   "metadata": {},
   "outputs": [],
   "source": [
    "def convert_params(filename, exp, model, transform = True, save = True):\n",
    "    path = f'../data/{exp}/data/'\n",
    "    data = pyreadr.read_r(path+model+\"_\"+filename+\".RData\")[filename].to_numpy()\n",
    "    if transform:\n",
    "        data[:,0] = np.log(data[:,0])\n",
    "        data[:,1] = np.log(data[:,1]/(2-data[:,1]))\n",
    "    if save:\n",
    "        np.save(file = path+filename+\".npy\", arr = data)\n",
    "    else:\n",
    "        return data"
   ]
  },
  {
   "cell_type": "code",
   "execution_count": 3,
   "id": "1dd42ef3-9cd4-4fa9-b9a7-01c132b93b9c",
   "metadata": {},
   "outputs": [],
   "source": [
    "def convert_data(filename, exp, model, transform = True, save = True):\n",
    "    path = f'../data/{exp}/data/'\n",
    "    data = pyreadr.read_r(path+model+\"_\"+filename+\".RData\")[filename].to_numpy()\n",
    "    img_shape = int(np.sqrt(data.shape[0]))\n",
    "    data = np.reshape(data, newshape = (img_shape, img_shape, -1))\n",
    "    if transform:\n",
    "        data = np.log(data)\n",
    "    if save:\n",
    "        np.save(file = path+filename+\".npy\", arr = data)\n",
    "    else:\n",
    "        return data"
   ]
  },
  {
   "cell_type": "markdown",
   "id": "8977e5a5-71ec-4aa7-b52e-c5b9d403b4d8",
   "metadata": {
    "tags": []
   },
   "source": [
    "## Convert parameters"
   ]
  },
  {
   "cell_type": "code",
   "execution_count": 13,
   "id": "2d25d993-e08d-4638-8394-b4cc3d3ff970",
   "metadata": {},
   "outputs": [],
   "source": [
    "convert_params(\"test_params\", \"exp_1\", \"brown\")\n",
    "convert_params(\"train_params\", \"exp_1\", \"brown\")\n",
    "convert_data(\"test_data\", \"exp_1\", \"brown\")\n",
    "convert_data(\"train_data\", \"exp_1\", \"brown\")"
   ]
  },
  {
   "cell_type": "code",
   "execution_count": 5,
   "id": "d356458f-359a-4ceb-96f2-804de9e31228",
   "metadata": {},
   "outputs": [],
   "source": [
    "convert_params(\"test_params\", \"exp_1\", \"schlather\")\n",
    "#convert_params(\"train_params\", \"exp_1\", \"brown\")\n",
    "convert_data(\"test_data\", \"exp_1\", \"schlather\")\n",
    "#convert_data(\"train_data\", \"exp_1\", \"schlather\")"
   ]
  },
  {
   "cell_type": "code",
   "execution_count": null,
   "id": "3194f2bf-76f4-4e6d-b5e4-4956e035ede4",
   "metadata": {},
   "outputs": [],
   "source": []
  }
 ],
 "metadata": {
  "kernelspec": {
   "display_name": "Python 3 (ipykernel)",
   "language": "python",
   "name": "python3"
  },
  "language_info": {
   "codemirror_mode": {
    "name": "ipython",
    "version": 3
   },
   "file_extension": ".py",
   "mimetype": "text/x-python",
   "name": "python",
   "nbconvert_exporter": "python",
   "pygments_lexer": "ipython3",
   "version": "3.11.3"
  }
 },
 "nbformat": 4,
 "nbformat_minor": 5
}
