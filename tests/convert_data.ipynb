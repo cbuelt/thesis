{
 "cells": [
  {
   "cell_type": "code",
   "execution_count": 1,
   "id": "d074e320-f7f9-4bde-a42a-4d86c1811ce4",
   "metadata": {},
   "outputs": [],
   "source": [
    "import numpy as np\n",
    "import pandas as pd\n",
    "import pyreadr\n",
    "import os"
   ]
  },
  {
   "cell_type": "code",
   "execution_count": 2,
   "id": "c4231bbd-4587-42e2-981f-e27f5e152b7e",
   "metadata": {},
   "outputs": [],
   "source": [
    "def convert_params(filename, exp, model, transform = True, save = True):\n",
    "    path = f'../data/{exp}/data/'\n",
    "    data = pyreadr.read_r(path+model+\"_\"+filename+\".RData\")[filename].to_numpy()\n",
    "    if transform:\n",
    "        data[:,0] = np.log(data[:,0])\n",
    "        data[:,1] = np.log(data[:,1]/(2-data[:,1]))\n",
    "    if save:\n",
    "        np.save(file = path+filename+\".npy\", arr = data)\n",
    "    else:\n",
    "        return data"
   ]
  },
  {
   "cell_type": "code",
   "execution_count": 3,
   "id": "1dd42ef3-9cd4-4fa9-b9a7-01c132b93b9c",
   "metadata": {},
   "outputs": [],
   "source": [
    "def convert_data(filename, exp, model, transform = True, save = True):\n",
    "    path = f'../data/{exp}/data/'\n",
    "    data = pyreadr.read_r(path+model+\"_\"+filename+\".RData\")[filename].to_numpy()\n",
    "    img_shape = int(np.sqrt(data.shape[0]))\n",
    "    data = np.reshape(data, newshape = (img_shape, img_shape, -1))\n",
    "    if transform:\n",
    "        data = np.log(data)\n",
    "    if save:\n",
    "        np.save(file = path+filename+\".npy\", arr = data)\n",
    "    else:\n",
    "        return data"
   ]
  },
  {
   "cell_type": "markdown",
   "id": "8977e5a5-71ec-4aa7-b52e-c5b9d403b4d8",
   "metadata": {
    "tags": []
   },
   "source": [
    "## Convert parameters"
   ]
  },
  {
   "cell_type": "code",
   "execution_count": 13,
   "id": "2d25d993-e08d-4638-8394-b4cc3d3ff970",
   "metadata": {},
   "outputs": [],
   "source": [
    "convert_params(\"test_params\", \"exp_1\", \"brown\")\n",
    "convert_params(\"train_params\", \"exp_1\", \"brown\")\n",
    "convert_data(\"test_data\", \"exp_1\", \"brown\")\n",
    "convert_data(\"train_data\", \"exp_1\", \"brown\")"
   ]
  },
  {
   "cell_type": "code",
   "execution_count": 5,
   "id": "d356458f-359a-4ceb-96f2-804de9e31228",
   "metadata": {},
   "outputs": [],
   "source": [
    "convert_params(\"test_params\", \"exp_1\", \"schlather\")\n",
    "#convert_params(\"train_params\", \"exp_1\", \"brown\")\n",
    "convert_data(\"test_data\", \"exp_1\", \"schlather\")\n",
    "#convert_data(\"train_data\", \"exp_1\", \"schlather\")"
   ]
  },
  {
   "cell_type": "markdown",
   "id": "e0866f08-76e7-4b76-8bd6-31b055d92c7f",
   "metadata": {},
   "source": [
    "# Save Single model"
   ]
  },
  {
   "cell_type": "code",
   "execution_count": 2,
   "id": "3194f2bf-76f4-4e6d-b5e4-4956e035ede4",
   "metadata": {},
   "outputs": [],
   "source": [
    "exp = \"exp_3\"\n",
    "path = f'../data/{exp}/data/'"
   ]
  },
  {
   "cell_type": "code",
   "execution_count": 3,
   "id": "b6cb2aa6-4f07-4d2e-a49b-796529bd34d4",
   "metadata": {},
   "outputs": [],
   "source": [
    "for model in [\"brown\", \"powexp\"]:\n",
    "    params = pyreadr.read_r(path+f\"{model}_train_params.RData\")[\"train_params\"]\n",
    "    data = pyreadr.read_r(path+f\"{model}_train_data.RData\")[\"train_data\"].to_numpy()\n",
    "    #Train/val\n",
    "    train_params = params.loc[0:1999,].to_numpy()\n",
    "    val_params =params.loc[2000:,].to_numpy()\n",
    "    train_data =data[:,0:2000]\n",
    "    train_data = np.reshape(np.swapaxes(train_data, 0,1), newshape = (-1, 25, 25))\n",
    "    val_data = data[:,2000:]\n",
    "    val_data = np.reshape(np.swapaxes(val_data, 0,1), newshape = (-1, 25, 25))\n",
    "    #Test\n",
    "    test_params = pyreadr.read_r(path+f\"{model}_test_params.RData\")[\"test_params\"].to_numpy()\n",
    "    test_data = pyreadr.read_r(path+f\"{model}_test_data.RData\")[\"test_data\"].to_numpy()\n",
    "    test_data = np.reshape(np.swapaxes(test_data, 0,1), newshape = (-1, 25, 25))\n",
    "    \n",
    "    np.save(path+f\"{model}_train_params\", train_params)\n",
    "    np.save(path+f\"{model}_val_params\", val_params)\n",
    "    np.save(path+f\"{model}_train_data\", train_data)\n",
    "    np.save(path+f\"{model}_val_data\", val_data)\n",
    "    np.save(path+f\"{model}_test_params\", test_params)\n",
    "    np.save(path+f\"{model}_test_data\", test_data)"
   ]
  },
  {
   "cell_type": "markdown",
   "id": "e3d03ab6-5475-4486-a0e1-77797328a018",
   "metadata": {
    "tags": []
   },
   "source": [
    "# Convert data / Add Schlather and brown together"
   ]
  },
  {
   "cell_type": "code",
   "execution_count": null,
   "id": "1d2af240-f9cb-4189-bfb1-c5dd2307194e",
   "metadata": {},
   "outputs": [],
   "source": [
    "exp = \"exp_3_1\"\n",
    "path = f'../data/{exp}/data/'"
   ]
  },
  {
   "cell_type": "code",
   "execution_count": null,
   "id": "c661b576-ef57-4ad2-b69b-30def8bc981a",
   "metadata": {},
   "outputs": [],
   "source": [
    "brown_params = pyreadr.read_r(path+\"brown_train_params.RData\")[\"train_params\"]\n",
    "brown_data = pyreadr.read_r(path+\"brown_train_data.RData\")[\"train_data\"].to_numpy()\n",
    "brown_params[\"name\"] = 0\n",
    "\n",
    "schlather_params = pyreadr.read_r(path+\"schlather_train_params.RData\")[\"train_params\"]\n",
    "schlather_data = pyreadr.read_r(path+\"schlather_train_data.RData\")[\"train_data\"].to_numpy()\n",
    "schlather_params[\"name\"] = 1"
   ]
  },
  {
   "cell_type": "code",
   "execution_count": null,
   "id": "2a25cfbf-102c-4125-b7eb-e4096f63e5c8",
   "metadata": {},
   "outputs": [],
   "source": [
    "train_params = pd.concat([brown_params.loc[0:1999,], schlather_params.loc[0:1999,]]).to_numpy()\n",
    "val_params = pd.concat([brown_params.loc[2000:,], schlather_params.loc[2000:,]]).to_numpy()"
   ]
  },
  {
   "cell_type": "code",
   "execution_count": null,
   "id": "a86fb834-139b-41bf-81fe-f05caf6ad12b",
   "metadata": {
    "tags": []
   },
   "outputs": [
    {
     "data": {
      "text/plain": [
       "(4000, 25, 25)"
      ]
     },
     "execution_count": 41,
     "metadata": {},
     "output_type": "execute_result"
    }
   ],
   "source": [
    "train_data = np.concatenate([brown_data[:,0:2000], schlather_data[:,0:2000]], axis = 1)\n",
    "train_data = np.reshape(np.swapaxes(train_data, 0,1), newshape = (-1, 25, 25))\n",
    "train_data.shape"
   ]
  },
  {
   "cell_type": "code",
   "execution_count": null,
   "id": "a3152668-6312-429f-86c2-0d556aea15de",
   "metadata": {},
   "outputs": [
    {
     "data": {
      "text/plain": [
       "(1000, 25, 25)"
      ]
     },
     "execution_count": 42,
     "metadata": {},
     "output_type": "execute_result"
    }
   ],
   "source": [
    "val_data = np.concatenate([brown_data[:,2000:], schlather_data[:,2000:]], axis = 1)\n",
    "val_data = np.reshape(np.swapaxes(val_data, 0,1), newshape = (-1, 25, 25))\n",
    "val_data.shape"
   ]
  },
  {
   "cell_type": "code",
   "execution_count": null,
   "id": "27e456bd-17dc-41d4-8bb4-3eaec623cc9e",
   "metadata": {},
   "outputs": [],
   "source": [
    "#Save\n",
    "np.save(path+\"train_params\", train_params)\n",
    "np.save(path+\"val_params\", val_params)\n",
    "np.save(path+\"train_data\", train_data)\n",
    "np.save(path+\"val_data\", val_data)"
   ]
  },
  {
   "cell_type": "markdown",
   "id": "f5079ccd-97b4-4535-93d5-97f6f06ec611",
   "metadata": {},
   "source": [
    "## Test data"
   ]
  },
  {
   "cell_type": "code",
   "execution_count": 9,
   "id": "4d264b8d-fca9-4483-b42a-96a948e9b070",
   "metadata": {},
   "outputs": [],
   "source": [
    "brown_params = pyreadr.read_r(path+\"brown_test_params.RData\")[\"test_params\"]\n",
    "brown_data = pyreadr.read_r(path+\"brown_test_data.RData\")[\"test_data\"].to_numpy()\n",
    "brown_params[\"name\"] = 0\n",
    "\n",
    "schlather_params = pyreadr.read_r(path+\"schlather_test_params.RData\")[\"test_params\"]\n",
    "schlather_data = pyreadr.read_r(path+\"schlather_test_data.RData\")[\"test_data\"].to_numpy()\n",
    "schlather_params[\"name\"] = 1"
   ]
  },
  {
   "cell_type": "code",
   "execution_count": 10,
   "id": "5b07dd8b-e005-4520-baea-0fb351db2139",
   "metadata": {},
   "outputs": [
    {
     "data": {
      "text/plain": [
       "(1500, 3)"
      ]
     },
     "execution_count": 10,
     "metadata": {},
     "output_type": "execute_result"
    }
   ],
   "source": [
    "test_params = pd.concat([brown_params, schlather_params]).to_numpy()\n",
    "test_params.shape"
   ]
  },
  {
   "cell_type": "code",
   "execution_count": 11,
   "id": "7188e03e-c617-4ee6-a264-12cfe15ccbfa",
   "metadata": {},
   "outputs": [
    {
     "data": {
      "text/plain": [
       "(1500, 25, 25)"
      ]
     },
     "execution_count": 11,
     "metadata": {},
     "output_type": "execute_result"
    }
   ],
   "source": [
    "test_data = np.concatenate([brown_data, schlather_data], axis = 1)\n",
    "test_data = np.reshape(np.swapaxes(test_data, 0,1), newshape = (-1, 25, 25))\n",
    "test_data.shape"
   ]
  },
  {
   "cell_type": "code",
   "execution_count": 12,
   "id": "c9babdb8-7243-4860-b646-170da74082bc",
   "metadata": {},
   "outputs": [],
   "source": [
    "np.save(path+\"test_params\", test_params)\n",
    "np.save(path+\"test_data\", test_data)"
   ]
  },
  {
   "cell_type": "code",
   "execution_count": null,
   "id": "06aab1a0-6d78-4119-a887-d00e07225c29",
   "metadata": {},
   "outputs": [],
   "source": []
  }
 ],
 "metadata": {
  "kernelspec": {
   "display_name": "Python 3 (ipykernel)",
   "language": "python",
   "name": "python3"
  },
  "language_info": {
   "codemirror_mode": {
    "name": "ipython",
    "version": 3
   },
   "file_extension": ".py",
   "mimetype": "text/x-python",
   "name": "python",
   "nbconvert_exporter": "python",
   "pygments_lexer": "ipython3",
   "version": "3.11.3"
  }
 },
 "nbformat": 4,
 "nbformat_minor": 5
}
