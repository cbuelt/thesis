{
 "cells": [
  {
   "cell_type": "code",
   "execution_count": 18,
   "id": "d074e320-f7f9-4bde-a42a-4d86c1811ce4",
   "metadata": {},
   "outputs": [],
   "source": [
    "import numpy as np\n",
    "import pandas as pd\n",
    "import pyreadr\n",
    "import os"
   ]
  },
  {
   "cell_type": "markdown",
   "id": "e0866f08-76e7-4b76-8bd6-31b055d92c7f",
   "metadata": {},
   "source": [
    "# Save Single model"
   ]
  },
  {
   "cell_type": "code",
   "execution_count": 21,
   "id": "3194f2bf-76f4-4e6d-b5e4-4956e035ede4",
   "metadata": {},
   "outputs": [],
   "source": [
    "exp = \"exp_5\"\n",
    "path = f'../data/{exp}/data/'"
   ]
  },
  {
   "cell_type": "code",
   "execution_count": 22,
   "id": "b6cb2aa6-4f07-4d2e-a49b-796529bd34d4",
   "metadata": {},
   "outputs": [],
   "source": [
    "split = 4000\n",
    "\n",
    "for model in [\"brown\", \"powexp\", \"whitmat\"]:\n",
    "    params = pyreadr.read_r(path+f\"{model}_train_params.RData\")[\"train_params\"]\n",
    "    data = pyreadr.read_r(path+f\"{model}_train_data.RData\")[\"train_data\"].to_numpy()\n",
    "    #Train/val\n",
    "    train_params = params.loc[0:(split-1),].to_numpy()\n",
    "    val_params =params.loc[split:,].to_numpy()\n",
    "    train_data =data[:,0:split]\n",
    "    train_data = np.reshape(np.swapaxes(train_data, 0,1), newshape = (-1, 25, 25))\n",
    "    val_data = data[:,split:]\n",
    "    val_data = np.reshape(np.swapaxes(val_data, 0,1), newshape = (-1, 25, 25))\n",
    "    #Test\n",
    "    test_params = pyreadr.read_r(path+f\"{model}_test_params.RData\")[\"test_params\"].to_numpy()\n",
    "    test_data = pyreadr.read_r(path+f\"{model}_test_data.RData\")[\"test_data\"].to_numpy()\n",
    "    test_data = np.reshape(np.swapaxes(test_data, 0,1), newshape = (-1, 25, 25))\n",
    "    \n",
    "    np.save(path+f\"{model}_train_params\", train_params)\n",
    "    np.save(path+f\"{model}_val_params\", val_params)\n",
    "    np.save(path+f\"{model}_train_data\", train_data)\n",
    "    np.save(path+f\"{model}_val_data\", val_data)\n",
    "    np.save(path+f\"{model}_test_params\", test_params)\n",
    "    np.save(path+f\"{model}_test_data\", test_data)"
   ]
  },
  {
   "cell_type": "markdown",
   "id": "fd2c0cd5-e655-4d51-a948-7f9dc4afbddb",
   "metadata": {},
   "source": [
    "# Save 3D data"
   ]
  },
  {
   "cell_type": "code",
   "execution_count": 46,
   "id": "5194b803-fb46-46b2-a744-cecb35b3a1ee",
   "metadata": {},
   "outputs": [],
   "source": [
    "exp = \"exp_4_1\"\n",
    "path = f'../data/{exp}/data/'\n",
    "n_pair = 5\n",
    "n = 1000"
   ]
  },
  {
   "cell_type": "code",
   "execution_count": 50,
   "id": "1e2688ae-e115-491a-8e2f-d1bf60e55f1c",
   "metadata": {},
   "outputs": [],
   "source": [
    "for model in [\"brown\", \"powexp\"]:\n",
    "    params = pyreadr.read_r(path+f\"{model}_train_params.RData\")[\"train_params\"].to_numpy()\n",
    "    data = pyreadr.read_r(path+f\"{model}_train_data.RData\")[\"train_data\"].to_numpy()\n",
    "\n",
    "    #Reshape\n",
    "    params = params.reshape(-1,n_pair, 2) \n",
    "    data = np.reshape(np.swapaxes(data, 0,1), newshape = (-1, 25, 25))\n",
    "    data = data.reshape(-1, n_pair, data.shape[1], data.shape[2])\n",
    "\n",
    "    #Train/Val split\n",
    "    train_params = params[0:800,0]\n",
    "    val_params =params[800:1000,0]\n",
    "    train_data =data[0:800]\n",
    "    val_data = data[800:]\n",
    "\n",
    "    #Test\n",
    "    test_params = pyreadr.read_r(path+f\"{model}_test_params.RData\")[\"test_params\"].to_numpy()\n",
    "    test_data = pyreadr.read_r(path+f\"{model}_test_data.RData\")[\"test_data\"].to_numpy()\n",
    "    #Reshape\n",
    "    test_data = np.reshape(np.swapaxes(test_data, 0,1), newshape = (-1, 25, 25))\n",
    "    test_params = test_params.reshape(-1,n_pair, 2) \n",
    "    test_params = test_params[:,0]\n",
    "    test_data = test_data.reshape(-1, n_pair, test_data.shape[1], test_data.shape[2])\n",
    "\n",
    "    np.save(path+f\"{model}_train_params\", train_params)\n",
    "    np.save(path+f\"{model}_val_params\", val_params)\n",
    "    np.save(path+f\"{model}_train_data\", train_data)\n",
    "    np.save(path+f\"{model}_val_data\", val_data)\n",
    "    np.save(path+f\"{model}_test_params\", test_params)\n",
    "    np.save(path+f\"{model}_test_data\", test_data)"
   ]
  },
  {
   "cell_type": "markdown",
   "id": "e3d03ab6-5475-4486-a0e1-77797328a018",
   "metadata": {
    "tags": []
   },
   "source": [
    "# Convert data / Add Schlather and brown together"
   ]
  },
  {
   "cell_type": "code",
   "execution_count": 2,
   "id": "1d2af240-f9cb-4189-bfb1-c5dd2307194e",
   "metadata": {},
   "outputs": [],
   "source": [
    "exp = \"exp_4\"\n",
    "path = f'../data/{exp}/data/'"
   ]
  },
  {
   "cell_type": "code",
   "execution_count": 4,
   "id": "c661b576-ef57-4ad2-b69b-30def8bc981a",
   "metadata": {},
   "outputs": [],
   "source": [
    "brown_params = pyreadr.read_r(path+\"brown_train_params.RData\")[\"train_params\"]\n",
    "brown_data = pyreadr.read_r(path+\"brown_train_data.RData\")[\"train_data\"].to_numpy()\n",
    "brown_params[\"name\"] = 0\n",
    "\n",
    "powexp_params = pyreadr.read_r(path+\"powexp_train_params.RData\")[\"train_params\"]\n",
    "powexp_data = pyreadr.read_r(path+\"powexp_train_data.RData\")[\"train_data\"].to_numpy()\n",
    "powexp_params[\"name\"] = 1\n",
    "\n",
    "whitmat_params = pyreadr.read_r(path+\"whitmat_train_params.RData\")[\"train_params\"]\n",
    "whitmat_data = pyreadr.read_r(path+\"whitmat_train_data.RData\")[\"train_data\"].to_numpy()\n",
    "whitmat_params[\"name\"] = 2"
   ]
  },
  {
   "cell_type": "code",
   "execution_count": 8,
   "id": "2a25cfbf-102c-4125-b7eb-e4096f63e5c8",
   "metadata": {},
   "outputs": [],
   "source": [
    "train_params = pd.concat([powexp_params.loc[0:1999,], whitmat_params.loc[0:1999,]]).to_numpy()\n",
    "val_params = pd.concat([powexp_params.loc[2000:,], whitmat_params.loc[2000:,]]).to_numpy()"
   ]
  },
  {
   "cell_type": "code",
   "execution_count": 9,
   "id": "a86fb834-139b-41bf-81fe-f05caf6ad12b",
   "metadata": {
    "tags": []
   },
   "outputs": [
    {
     "data": {
      "text/plain": [
       "(4000, 25, 25)"
      ]
     },
     "execution_count": 9,
     "metadata": {},
     "output_type": "execute_result"
    }
   ],
   "source": [
    "train_data = np.concatenate([powexp_data[:,0:2000], whitmat_data[:,0:2000]], axis = 1)\n",
    "train_data = np.reshape(np.swapaxes(train_data, 0,1), newshape = (-1, 25, 25))\n",
    "train_data.shape"
   ]
  },
  {
   "cell_type": "code",
   "execution_count": 12,
   "id": "a3152668-6312-429f-86c2-0d556aea15de",
   "metadata": {},
   "outputs": [
    {
     "data": {
      "text/plain": [
       "(1000, 25, 25)"
      ]
     },
     "execution_count": 12,
     "metadata": {},
     "output_type": "execute_result"
    }
   ],
   "source": [
    "val_data = np.concatenate([powexp_data[:,2000:], whitmat_data[:,2000:]], axis = 1)\n",
    "val_data = np.reshape(np.swapaxes(val_data, 0,1), newshape = (-1, 25, 25))\n",
    "val_data.shape"
   ]
  },
  {
   "cell_type": "code",
   "execution_count": 15,
   "id": "27e456bd-17dc-41d4-8bb4-3eaec623cc9e",
   "metadata": {},
   "outputs": [],
   "source": [
    "#Save\n",
    "np.save(path+\"train_params\", train_params)\n",
    "np.save(path+\"val_params\", val_params)\n",
    "np.save(path+\"train_data\", train_data)\n",
    "np.save(path+\"val_data\", val_data)"
   ]
  },
  {
   "cell_type": "markdown",
   "id": "f5079ccd-97b4-4535-93d5-97f6f06ec611",
   "metadata": {},
   "source": [
    "## Test data"
   ]
  },
  {
   "cell_type": "code",
   "execution_count": 17,
   "id": "4d264b8d-fca9-4483-b42a-96a948e9b070",
   "metadata": {},
   "outputs": [],
   "source": [
    "brown_params = pyreadr.read_r(path+\"brown_test_params.RData\")[\"test_params\"]\n",
    "brown_data = pyreadr.read_r(path+\"brown_test_data.RData\")[\"test_data\"].to_numpy()\n",
    "brown_params[\"name\"] = 0\n",
    "\n",
    "powexp_params = pyreadr.read_r(path+\"powexp_test_params.RData\")[\"test_params\"]\n",
    "powexp_data = pyreadr.read_r(path+\"powexp_test_data.RData\")[\"test_data\"].to_numpy()\n",
    "powexp_params[\"name\"] = 1\n",
    "\n",
    "whitmat_params = pyreadr.read_r(path+\"whitmat_test_params.RData\")[\"test_params\"]\n",
    "whitmat_data = pyreadr.read_r(path+\"whitmat_test_data.RData\")[\"test_data\"].to_numpy()\n",
    "whitmat_params[\"name\"] = 2"
   ]
  },
  {
   "cell_type": "code",
   "execution_count": 18,
   "id": "5b07dd8b-e005-4520-baea-0fb351db2139",
   "metadata": {},
   "outputs": [
    {
     "data": {
      "text/plain": [
       "(1500, 3)"
      ]
     },
     "execution_count": 18,
     "metadata": {},
     "output_type": "execute_result"
    }
   ],
   "source": [
    "test_params = pd.concat([powexp_params, whitmat_params]).to_numpy()\n",
    "test_params.shape"
   ]
  },
  {
   "cell_type": "code",
   "execution_count": 19,
   "id": "7188e03e-c617-4ee6-a264-12cfe15ccbfa",
   "metadata": {},
   "outputs": [
    {
     "data": {
      "text/plain": [
       "(1500, 25, 25)"
      ]
     },
     "execution_count": 19,
     "metadata": {},
     "output_type": "execute_result"
    }
   ],
   "source": [
    "test_data = np.concatenate([powexp_data, whitmat_data], axis = 1)\n",
    "test_data = np.reshape(np.swapaxes(test_data, 0,1), newshape = (-1, 25, 25))\n",
    "test_data.shape"
   ]
  },
  {
   "cell_type": "code",
   "execution_count": 20,
   "id": "c9babdb8-7243-4860-b646-170da74082bc",
   "metadata": {},
   "outputs": [],
   "source": [
    "np.save(path+\"test_params\", test_params)\n",
    "np.save(path+\"test_data\", test_data)"
   ]
  },
  {
   "cell_type": "code",
   "execution_count": null,
   "id": "06aab1a0-6d78-4119-a887-d00e07225c29",
   "metadata": {},
   "outputs": [],
   "source": []
  }
 ],
 "metadata": {
  "kernelspec": {
   "display_name": "Python 3 (ipykernel)",
   "language": "python",
   "name": "python3"
  },
  "language_info": {
   "codemirror_mode": {
    "name": "ipython",
    "version": 3
   },
   "file_extension": ".py",
   "mimetype": "text/x-python",
   "name": "python",
   "nbconvert_exporter": "python",
   "pygments_lexer": "ipython3",
   "version": "3.11.3"
  }
 },
 "nbformat": 4,
 "nbformat_minor": 5
}
