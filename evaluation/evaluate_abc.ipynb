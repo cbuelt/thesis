{
 "cells": [
  {
   "cell_type": "code",
   "execution_count": 1,
   "id": "9c03a7f0-796b-477a-bc3d-8db5f06dec15",
   "metadata": {},
   "outputs": [],
   "source": [
    "import numpy as np\n",
    "import scipy as sc\n",
    "import pandas as pd\n",
    "import matplotlib.pyplot as plt\n",
    "from scipy.integrate import quad\n",
    "import pyreadr\n",
    "import itertools\n",
    "import sys\n",
    "sys.path.append('C:\\\\Users\\\\chris\\\\Desktop\\\\Masterarbeit\\\\code')\n",
    "from utils.dataloader import train_val_loader, test_loader\n",
    "import xarray as xr"
   ]
  },
  {
   "cell_type": "code",
   "execution_count": 2,
   "id": "39938fce-8ac5-4681-8e43-07432662fa51",
   "metadata": {},
   "outputs": [],
   "source": [
    "def corr_func(h, method, r, s):\n",
    "    if method==\"brown\":\n",
    "        res = np.power((h/r),s)\n",
    "    elif method==\"powexp\":\n",
    "        res = np.exp(-np.power((h/r),s))        \n",
    "    elif method == \"whitmat\":\n",
    "        res = np.power(2, float(1-s))/sc.special.gamma(s)*\\\n",
    "              np.power((h/r),2)*sc.special.kv(s, (h/r))\n",
    "    return res    "
   ]
  },
  {
   "cell_type": "code",
   "execution_count": 3,
   "id": "f4fe6bfc-1089-454d-b3a3-393e4a0e5729",
   "metadata": {
    "tags": []
   },
   "outputs": [],
   "source": [
    "def extremal_coefficient(h, method, r, s):\n",
    "    if method==\"brown\":\n",
    "        res = 2*sc.stats.norm.cdf(np.sqrt(corr_func(h, method, r, s))/2,loc = 0, scale = 1)    \n",
    "    else:\n",
    "        res = 1+np.sqrt(1-corr_func(h, method, r, s)/2)        \n",
    "    return res    "
   ]
  },
  {
   "cell_type": "code",
   "execution_count": 4,
   "id": "4cbcc25a-6a22-4f08-8c00-1087d86a9059",
   "metadata": {},
   "outputs": [],
   "source": [
    "def abc_ext_func(h, model, r, s):\n",
    "    length = len(r)\n",
    "    abc_ext = 0\n",
    "    for i in range(length):\n",
    "        abc_ext += extremal_coefficient(h, model, r[i], s[i])\n",
    "    abc_ext = abc_ext / length\n",
    "    return(abc_ext)"
   ]
  },
  {
   "cell_type": "code",
   "execution_count": 5,
   "id": "043737f7-830d-4fd4-a8f1-9a78d753022c",
   "metadata": {},
   "outputs": [],
   "source": [
    "def abc_error_function(h, model, r_true, s_true, r, s):\n",
    "    error = np.power(extremal_coefficient(h, model, r_true, s_true) - abc_ext_func(h, model, r, s),2)\n",
    "    return error"
   ]
  },
  {
   "cell_type": "code",
   "execution_count": 6,
   "id": "3f61d031-3cc6-42ce-a5e0-bb2304c696ac",
   "metadata": {},
   "outputs": [],
   "source": [
    "def get_imse(model, true_params, abc_params):\n",
    "    r_true, s_true = true_params\n",
    "    r, s, = abc_params\n",
    "    error, _ = quad(abc_error_function, 0, 40, args = (model, r_true, s_true, r, s))\n",
    "    return error"
   ]
  },
  {
   "cell_type": "code",
   "execution_count": 7,
   "id": "5b808317-5fc4-4799-9ec2-0f4fb6d229ca",
   "metadata": {},
   "outputs": [],
   "source": [
    "def get_abc_metrics(true_params, abc_params, model):\n",
    "    abc_array = np.array(abc_params)\n",
    "    abc_mean = np.transpose(abc_array.mean(axis = 2))\n",
    "    rmse = np.sqrt(np.mean((np.power(abc_mean - true_params,2)), axis = 0))\n",
    "    imse_ext = np.mean(np.array([get_imse(model, true_params[i], abc_array[:,i]) for i in range(true_params.shape[0])]))\n",
    "    \n",
    "    \n",
    "    print(f\"RMSE: {np.round(rmse,2)}\") \n",
    "    print(f\"Ext - IMSE: {np.round(imse_ext,4)}\")"
   ]
  },
  {
   "cell_type": "code",
   "execution_count": 8,
   "id": "6469c764-be1e-4351-b0e3-35f06c7e5fed",
   "metadata": {},
   "outputs": [],
   "source": [
    "exp = \"exp_4\"\n",
    "path = f'../data/{exp}/data/'\n",
    "model = \"brown\"\n",
    "brown_params = pyreadr.read_r(path+model+\"_test_params.RData\")[\"test_params\"].to_numpy()\n",
    "\n",
    "path = f'../data/{exp}/results/'"
   ]
  },
  {
   "cell_type": "code",
   "execution_count": 9,
   "id": "e4f8ef7f-773b-4cdb-9b80-a18d974f70f7",
   "metadata": {},
   "outputs": [],
   "source": [
    "subset = np.arange(0,750,30)\n",
    "true_params = brown_params[subset]"
   ]
  },
  {
   "cell_type": "code",
   "execution_count": 10,
   "id": "67339704-7bbc-4fd5-8e0c-1556466302f9",
   "metadata": {},
   "outputs": [],
   "source": [
    "brown_res = xr.open_dataset(path+model+\"_abc_samples_interpolated_n1.nc\")"
   ]
  },
  {
   "cell_type": "code",
   "execution_count": 11,
   "id": "eb0cbf15-9870-4b00-a2df-829fd70136a9",
   "metadata": {},
   "outputs": [
    {
     "data": {
      "text/html": [
       "<div><svg style=\"position: absolute; width: 0; height: 0; overflow: hidden\">\n",
       "<defs>\n",
       "<symbol id=\"icon-database\" viewBox=\"0 0 32 32\">\n",
       "<path d=\"M16 0c-8.837 0-16 2.239-16 5v4c0 2.761 7.163 5 16 5s16-2.239 16-5v-4c0-2.761-7.163-5-16-5z\"></path>\n",
       "<path d=\"M16 17c-8.837 0-16-2.239-16-5v6c0 2.761 7.163 5 16 5s16-2.239 16-5v-6c0 2.761-7.163 5-16 5z\"></path>\n",
       "<path d=\"M16 26c-8.837 0-16-2.239-16-5v6c0 2.761 7.163 5 16 5s16-2.239 16-5v-6c0 2.761-7.163 5-16 5z\"></path>\n",
       "</symbol>\n",
       "<symbol id=\"icon-file-text2\" viewBox=\"0 0 32 32\">\n",
       "<path d=\"M28.681 7.159c-0.694-0.947-1.662-2.053-2.724-3.116s-2.169-2.030-3.116-2.724c-1.612-1.182-2.393-1.319-2.841-1.319h-15.5c-1.378 0-2.5 1.121-2.5 2.5v27c0 1.378 1.122 2.5 2.5 2.5h23c1.378 0 2.5-1.122 2.5-2.5v-19.5c0-0.448-0.137-1.23-1.319-2.841zM24.543 5.457c0.959 0.959 1.712 1.825 2.268 2.543h-4.811v-4.811c0.718 0.556 1.584 1.309 2.543 2.268zM28 29.5c0 0.271-0.229 0.5-0.5 0.5h-23c-0.271 0-0.5-0.229-0.5-0.5v-27c0-0.271 0.229-0.5 0.5-0.5 0 0 15.499-0 15.5 0v7c0 0.552 0.448 1 1 1h7v19.5z\"></path>\n",
       "<path d=\"M23 26h-14c-0.552 0-1-0.448-1-1s0.448-1 1-1h14c0.552 0 1 0.448 1 1s-0.448 1-1 1z\"></path>\n",
       "<path d=\"M23 22h-14c-0.552 0-1-0.448-1-1s0.448-1 1-1h14c0.552 0 1 0.448 1 1s-0.448 1-1 1z\"></path>\n",
       "<path d=\"M23 18h-14c-0.552 0-1-0.448-1-1s0.448-1 1-1h14c0.552 0 1 0.448 1 1s-0.448 1-1 1z\"></path>\n",
       "</symbol>\n",
       "</defs>\n",
       "</svg>\n",
       "<style>/* CSS stylesheet for displaying xarray objects in jupyterlab.\n",
       " *\n",
       " */\n",
       "\n",
       ":root {\n",
       "  --xr-font-color0: var(--jp-content-font-color0, rgba(0, 0, 0, 1));\n",
       "  --xr-font-color2: var(--jp-content-font-color2, rgba(0, 0, 0, 0.54));\n",
       "  --xr-font-color3: var(--jp-content-font-color3, rgba(0, 0, 0, 0.38));\n",
       "  --xr-border-color: var(--jp-border-color2, #e0e0e0);\n",
       "  --xr-disabled-color: var(--jp-layout-color3, #bdbdbd);\n",
       "  --xr-background-color: var(--jp-layout-color0, white);\n",
       "  --xr-background-color-row-even: var(--jp-layout-color1, white);\n",
       "  --xr-background-color-row-odd: var(--jp-layout-color2, #eeeeee);\n",
       "}\n",
       "\n",
       "html[theme=dark],\n",
       "body[data-theme=dark],\n",
       "body.vscode-dark {\n",
       "  --xr-font-color0: rgba(255, 255, 255, 1);\n",
       "  --xr-font-color2: rgba(255, 255, 255, 0.54);\n",
       "  --xr-font-color3: rgba(255, 255, 255, 0.38);\n",
       "  --xr-border-color: #1F1F1F;\n",
       "  --xr-disabled-color: #515151;\n",
       "  --xr-background-color: #111111;\n",
       "  --xr-background-color-row-even: #111111;\n",
       "  --xr-background-color-row-odd: #313131;\n",
       "}\n",
       "\n",
       ".xr-wrap {\n",
       "  display: block !important;\n",
       "  min-width: 300px;\n",
       "  max-width: 700px;\n",
       "}\n",
       "\n",
       ".xr-text-repr-fallback {\n",
       "  /* fallback to plain text repr when CSS is not injected (untrusted notebook) */\n",
       "  display: none;\n",
       "}\n",
       "\n",
       ".xr-header {\n",
       "  padding-top: 6px;\n",
       "  padding-bottom: 6px;\n",
       "  margin-bottom: 4px;\n",
       "  border-bottom: solid 1px var(--xr-border-color);\n",
       "}\n",
       "\n",
       ".xr-header > div,\n",
       ".xr-header > ul {\n",
       "  display: inline;\n",
       "  margin-top: 0;\n",
       "  margin-bottom: 0;\n",
       "}\n",
       "\n",
       ".xr-obj-type,\n",
       ".xr-array-name {\n",
       "  margin-left: 2px;\n",
       "  margin-right: 10px;\n",
       "}\n",
       "\n",
       ".xr-obj-type {\n",
       "  color: var(--xr-font-color2);\n",
       "}\n",
       "\n",
       ".xr-sections {\n",
       "  padding-left: 0 !important;\n",
       "  display: grid;\n",
       "  grid-template-columns: 150px auto auto 1fr 20px 20px;\n",
       "}\n",
       "\n",
       ".xr-section-item {\n",
       "  display: contents;\n",
       "}\n",
       "\n",
       ".xr-section-item input {\n",
       "  display: none;\n",
       "}\n",
       "\n",
       ".xr-section-item input + label {\n",
       "  color: var(--xr-disabled-color);\n",
       "}\n",
       "\n",
       ".xr-section-item input:enabled + label {\n",
       "  cursor: pointer;\n",
       "  color: var(--xr-font-color2);\n",
       "}\n",
       "\n",
       ".xr-section-item input:enabled + label:hover {\n",
       "  color: var(--xr-font-color0);\n",
       "}\n",
       "\n",
       ".xr-section-summary {\n",
       "  grid-column: 1;\n",
       "  color: var(--xr-font-color2);\n",
       "  font-weight: 500;\n",
       "}\n",
       "\n",
       ".xr-section-summary > span {\n",
       "  display: inline-block;\n",
       "  padding-left: 0.5em;\n",
       "}\n",
       "\n",
       ".xr-section-summary-in:disabled + label {\n",
       "  color: var(--xr-font-color2);\n",
       "}\n",
       "\n",
       ".xr-section-summary-in + label:before {\n",
       "  display: inline-block;\n",
       "  content: '►';\n",
       "  font-size: 11px;\n",
       "  width: 15px;\n",
       "  text-align: center;\n",
       "}\n",
       "\n",
       ".xr-section-summary-in:disabled + label:before {\n",
       "  color: var(--xr-disabled-color);\n",
       "}\n",
       "\n",
       ".xr-section-summary-in:checked + label:before {\n",
       "  content: '▼';\n",
       "}\n",
       "\n",
       ".xr-section-summary-in:checked + label > span {\n",
       "  display: none;\n",
       "}\n",
       "\n",
       ".xr-section-summary,\n",
       ".xr-section-inline-details {\n",
       "  padding-top: 4px;\n",
       "  padding-bottom: 4px;\n",
       "}\n",
       "\n",
       ".xr-section-inline-details {\n",
       "  grid-column: 2 / -1;\n",
       "}\n",
       "\n",
       ".xr-section-details {\n",
       "  display: none;\n",
       "  grid-column: 1 / -1;\n",
       "  margin-bottom: 5px;\n",
       "}\n",
       "\n",
       ".xr-section-summary-in:checked ~ .xr-section-details {\n",
       "  display: contents;\n",
       "}\n",
       "\n",
       ".xr-array-wrap {\n",
       "  grid-column: 1 / -1;\n",
       "  display: grid;\n",
       "  grid-template-columns: 20px auto;\n",
       "}\n",
       "\n",
       ".xr-array-wrap > label {\n",
       "  grid-column: 1;\n",
       "  vertical-align: top;\n",
       "}\n",
       "\n",
       ".xr-preview {\n",
       "  color: var(--xr-font-color3);\n",
       "}\n",
       "\n",
       ".xr-array-preview,\n",
       ".xr-array-data {\n",
       "  padding: 0 5px !important;\n",
       "  grid-column: 2;\n",
       "}\n",
       "\n",
       ".xr-array-data,\n",
       ".xr-array-in:checked ~ .xr-array-preview {\n",
       "  display: none;\n",
       "}\n",
       "\n",
       ".xr-array-in:checked ~ .xr-array-data,\n",
       ".xr-array-preview {\n",
       "  display: inline-block;\n",
       "}\n",
       "\n",
       ".xr-dim-list {\n",
       "  display: inline-block !important;\n",
       "  list-style: none;\n",
       "  padding: 0 !important;\n",
       "  margin: 0;\n",
       "}\n",
       "\n",
       ".xr-dim-list li {\n",
       "  display: inline-block;\n",
       "  padding: 0;\n",
       "  margin: 0;\n",
       "}\n",
       "\n",
       ".xr-dim-list:before {\n",
       "  content: '(';\n",
       "}\n",
       "\n",
       ".xr-dim-list:after {\n",
       "  content: ')';\n",
       "}\n",
       "\n",
       ".xr-dim-list li:not(:last-child):after {\n",
       "  content: ',';\n",
       "  padding-right: 5px;\n",
       "}\n",
       "\n",
       ".xr-has-index {\n",
       "  font-weight: bold;\n",
       "}\n",
       "\n",
       ".xr-var-list,\n",
       ".xr-var-item {\n",
       "  display: contents;\n",
       "}\n",
       "\n",
       ".xr-var-item > div,\n",
       ".xr-var-item label,\n",
       ".xr-var-item > .xr-var-name span {\n",
       "  background-color: var(--xr-background-color-row-even);\n",
       "  margin-bottom: 0;\n",
       "}\n",
       "\n",
       ".xr-var-item > .xr-var-name:hover span {\n",
       "  padding-right: 5px;\n",
       "}\n",
       "\n",
       ".xr-var-list > li:nth-child(odd) > div,\n",
       ".xr-var-list > li:nth-child(odd) > label,\n",
       ".xr-var-list > li:nth-child(odd) > .xr-var-name span {\n",
       "  background-color: var(--xr-background-color-row-odd);\n",
       "}\n",
       "\n",
       ".xr-var-name {\n",
       "  grid-column: 1;\n",
       "}\n",
       "\n",
       ".xr-var-dims {\n",
       "  grid-column: 2;\n",
       "}\n",
       "\n",
       ".xr-var-dtype {\n",
       "  grid-column: 3;\n",
       "  text-align: right;\n",
       "  color: var(--xr-font-color2);\n",
       "}\n",
       "\n",
       ".xr-var-preview {\n",
       "  grid-column: 4;\n",
       "}\n",
       "\n",
       ".xr-index-preview {\n",
       "  grid-column: 2 / 5;\n",
       "  color: var(--xr-font-color2);\n",
       "}\n",
       "\n",
       ".xr-var-name,\n",
       ".xr-var-dims,\n",
       ".xr-var-dtype,\n",
       ".xr-preview,\n",
       ".xr-attrs dt {\n",
       "  white-space: nowrap;\n",
       "  overflow: hidden;\n",
       "  text-overflow: ellipsis;\n",
       "  padding-right: 10px;\n",
       "}\n",
       "\n",
       ".xr-var-name:hover,\n",
       ".xr-var-dims:hover,\n",
       ".xr-var-dtype:hover,\n",
       ".xr-attrs dt:hover {\n",
       "  overflow: visible;\n",
       "  width: auto;\n",
       "  z-index: 1;\n",
       "}\n",
       "\n",
       ".xr-var-attrs,\n",
       ".xr-var-data,\n",
       ".xr-index-data {\n",
       "  display: none;\n",
       "  background-color: var(--xr-background-color) !important;\n",
       "  padding-bottom: 5px !important;\n",
       "}\n",
       "\n",
       ".xr-var-attrs-in:checked ~ .xr-var-attrs,\n",
       ".xr-var-data-in:checked ~ .xr-var-data,\n",
       ".xr-index-data-in:checked ~ .xr-index-data {\n",
       "  display: block;\n",
       "}\n",
       "\n",
       ".xr-var-data > table {\n",
       "  float: right;\n",
       "}\n",
       "\n",
       ".xr-var-name span,\n",
       ".xr-var-data,\n",
       ".xr-index-name div,\n",
       ".xr-index-data,\n",
       ".xr-attrs {\n",
       "  padding-left: 25px !important;\n",
       "}\n",
       "\n",
       ".xr-attrs,\n",
       ".xr-var-attrs,\n",
       ".xr-var-data,\n",
       ".xr-index-data {\n",
       "  grid-column: 1 / -1;\n",
       "}\n",
       "\n",
       "dl.xr-attrs {\n",
       "  padding: 0;\n",
       "  margin: 0;\n",
       "  display: grid;\n",
       "  grid-template-columns: 125px auto;\n",
       "}\n",
       "\n",
       ".xr-attrs dt,\n",
       ".xr-attrs dd {\n",
       "  padding: 0;\n",
       "  margin: 0;\n",
       "  float: left;\n",
       "  padding-right: 10px;\n",
       "  width: auto;\n",
       "}\n",
       "\n",
       ".xr-attrs dt {\n",
       "  font-weight: normal;\n",
       "  grid-column: 1;\n",
       "}\n",
       "\n",
       ".xr-attrs dt:hover span {\n",
       "  display: inline-block;\n",
       "  background: var(--xr-background-color);\n",
       "  padding-right: 10px;\n",
       "}\n",
       "\n",
       ".xr-attrs dd {\n",
       "  grid-column: 2;\n",
       "  white-space: pre-wrap;\n",
       "  word-break: break-all;\n",
       "}\n",
       "\n",
       ".xr-icon-database,\n",
       ".xr-icon-file-text2,\n",
       ".xr-no-icon {\n",
       "  display: inline-block;\n",
       "  vertical-align: middle;\n",
       "  width: 1em;\n",
       "  height: 1.5em !important;\n",
       "  stroke-width: 0;\n",
       "  stroke: currentColor;\n",
       "  fill: currentColor;\n",
       "}\n",
       "</style><pre class='xr-text-repr-fallback'>&lt;xarray.Dataset&gt;\n",
       "Dimensions:     (test_sample: 25, abc_samples: 200)\n",
       "Dimensions without coordinates: test_sample, abc_samples\n",
       "Data variables:\n",
       "    Range       (test_sample, abc_samples) float64 ...\n",
       "    Smoothness  (test_sample, abc_samples) float64 ...\n",
       "    Distance    (test_sample, abc_samples) float64 ...</pre><div class='xr-wrap' style='display:none'><div class='xr-header'><div class='xr-obj-type'>xarray.Dataset</div></div><ul class='xr-sections'><li class='xr-section-item'><input id='section-579a6a9f-f1a0-4db1-b9fc-a81016c8b5e4' class='xr-section-summary-in' type='checkbox' disabled ><label for='section-579a6a9f-f1a0-4db1-b9fc-a81016c8b5e4' class='xr-section-summary'  title='Expand/collapse section'>Dimensions:</label><div class='xr-section-inline-details'><ul class='xr-dim-list'><li><span>test_sample</span>: 25</li><li><span>abc_samples</span>: 200</li></ul></div><div class='xr-section-details'></div></li><li class='xr-section-item'><input id='section-f7348175-dcbe-4fa9-8182-0ce77d7d59be' class='xr-section-summary-in' type='checkbox' disabled ><label for='section-f7348175-dcbe-4fa9-8182-0ce77d7d59be' class='xr-section-summary'  title='Expand/collapse section'>Coordinates: <span>(0)</span></label><div class='xr-section-inline-details'></div><div class='xr-section-details'><ul class='xr-var-list'></ul></div></li><li class='xr-section-item'><input id='section-65280445-4991-4dbb-b5f5-a7387a4b9ccd' class='xr-section-summary-in' type='checkbox'  checked><label for='section-65280445-4991-4dbb-b5f5-a7387a4b9ccd' class='xr-section-summary' >Data variables: <span>(3)</span></label><div class='xr-section-inline-details'></div><div class='xr-section-details'><ul class='xr-var-list'><li class='xr-var-item'><div class='xr-var-name'><span>Range</span></div><div class='xr-var-dims'>(test_sample, abc_samples)</div><div class='xr-var-dtype'>float64</div><div class='xr-var-preview xr-preview'>...</div><input id='attrs-915aa211-fdc2-4acf-94c8-0e72fde26b83' class='xr-var-attrs-in' type='checkbox' disabled><label for='attrs-915aa211-fdc2-4acf-94c8-0e72fde26b83' title='Show/Hide attributes'><svg class='icon xr-icon-file-text2'><use xlink:href='#icon-file-text2'></use></svg></label><input id='data-7bcd8683-6513-4077-b955-9d59dc27731d' class='xr-var-data-in' type='checkbox'><label for='data-7bcd8683-6513-4077-b955-9d59dc27731d' title='Show/Hide data repr'><svg class='icon xr-icon-database'><use xlink:href='#icon-database'></use></svg></label><div class='xr-var-attrs'><dl class='xr-attrs'></dl></div><div class='xr-var-data'><pre>[5000 values with dtype=float64]</pre></div></li><li class='xr-var-item'><div class='xr-var-name'><span>Smoothness</span></div><div class='xr-var-dims'>(test_sample, abc_samples)</div><div class='xr-var-dtype'>float64</div><div class='xr-var-preview xr-preview'>...</div><input id='attrs-bf96e55c-86aa-40f6-8642-8d8c61ab2c84' class='xr-var-attrs-in' type='checkbox' disabled><label for='attrs-bf96e55c-86aa-40f6-8642-8d8c61ab2c84' title='Show/Hide attributes'><svg class='icon xr-icon-file-text2'><use xlink:href='#icon-file-text2'></use></svg></label><input id='data-62d3398f-35cd-4be1-89f5-8b786cba0da1' class='xr-var-data-in' type='checkbox'><label for='data-62d3398f-35cd-4be1-89f5-8b786cba0da1' title='Show/Hide data repr'><svg class='icon xr-icon-database'><use xlink:href='#icon-database'></use></svg></label><div class='xr-var-attrs'><dl class='xr-attrs'></dl></div><div class='xr-var-data'><pre>[5000 values with dtype=float64]</pre></div></li><li class='xr-var-item'><div class='xr-var-name'><span>Distance</span></div><div class='xr-var-dims'>(test_sample, abc_samples)</div><div class='xr-var-dtype'>float64</div><div class='xr-var-preview xr-preview'>...</div><input id='attrs-f5a59998-e32e-4b39-ba96-0c8874e90e3f' class='xr-var-attrs-in' type='checkbox' disabled><label for='attrs-f5a59998-e32e-4b39-ba96-0c8874e90e3f' title='Show/Hide attributes'><svg class='icon xr-icon-file-text2'><use xlink:href='#icon-file-text2'></use></svg></label><input id='data-06b30a1d-4225-4a66-be44-b387c7f81e56' class='xr-var-data-in' type='checkbox'><label for='data-06b30a1d-4225-4a66-be44-b387c7f81e56' title='Show/Hide data repr'><svg class='icon xr-icon-database'><use xlink:href='#icon-database'></use></svg></label><div class='xr-var-attrs'><dl class='xr-attrs'></dl></div><div class='xr-var-data'><pre>[5000 values with dtype=float64]</pre></div></li></ul></div></li><li class='xr-section-item'><input id='section-dcd642cf-3572-473a-bb57-7823899ce20d' class='xr-section-summary-in' type='checkbox' disabled ><label for='section-dcd642cf-3572-473a-bb57-7823899ce20d' class='xr-section-summary'  title='Expand/collapse section'>Indexes: <span>(0)</span></label><div class='xr-section-inline-details'></div><div class='xr-section-details'><ul class='xr-var-list'></ul></div></li><li class='xr-section-item'><input id='section-1c750d14-bda4-466b-837e-0d39fec06c0c' class='xr-section-summary-in' type='checkbox' disabled ><label for='section-1c750d14-bda4-466b-837e-0d39fec06c0c' class='xr-section-summary'  title='Expand/collapse section'>Attributes: <span>(0)</span></label><div class='xr-section-inline-details'></div><div class='xr-section-details'><dl class='xr-attrs'></dl></div></li></ul></div></div>"
      ],
      "text/plain": [
       "<xarray.Dataset>\n",
       "Dimensions:     (test_sample: 25, abc_samples: 200)\n",
       "Dimensions without coordinates: test_sample, abc_samples\n",
       "Data variables:\n",
       "    Range       (test_sample, abc_samples) float64 ...\n",
       "    Smoothness  (test_sample, abc_samples) float64 ...\n",
       "    Distance    (test_sample, abc_samples) float64 ..."
      ]
     },
     "execution_count": 11,
     "metadata": {},
     "output_type": "execute_result"
    }
   ],
   "source": [
    "brown_res"
   ]
  },
  {
   "cell_type": "code",
   "execution_count": 12,
   "id": "33d55d58-c30a-4534-99ca-1799b27fc953",
   "metadata": {},
   "outputs": [],
   "source": [
    "#Define abc sample arrays\n",
    "r = brown_res.Range.to_numpy()\n",
    "s = brown_res.Smoothness.to_numpy()"
   ]
  },
  {
   "cell_type": "code",
   "execution_count": 36,
   "id": "f2f121f2-c032-4e24-9175-597aad4fcbf4",
   "metadata": {},
   "outputs": [
    {
     "name": "stdout",
     "output_type": "stream",
     "text": [
      "RMSE: [1.74 0.55]\n",
      "Ext - IMSE: 1.1769\n"
     ]
    }
   ],
   "source": [
    "# Full grid\n",
    "get_abc_metrics(true_params, [r,s], model)"
   ]
  },
  {
   "cell_type": "code",
   "execution_count": 48,
   "id": "626b0eec-ac5a-42c5-a3e3-0cc4b1af5b0d",
   "metadata": {},
   "outputs": [
    {
     "name": "stdout",
     "output_type": "stream",
     "text": [
      "RMSE: [2.4  0.48]\n",
      "Ext - IMSE: 0.667\n"
     ]
    }
   ],
   "source": [
    "#Brown interpolated grid\n",
    "get_abc_metrics(true_params, [r,s], model)"
   ]
  },
  {
   "cell_type": "code",
   "execution_count": 60,
   "id": "1965aa1b-7298-4754-9226-6e28c8b46313",
   "metadata": {},
   "outputs": [
    {
     "name": "stdout",
     "output_type": "stream",
     "text": [
      "RMSE: [2.88 0.5 ]\n",
      "Ext - IMSE: 0.0512\n"
     ]
    }
   ],
   "source": [
    "#Powexp full grid\n",
    "get_abc_metrics(true_params, [r,s], model)"
   ]
  },
  {
   "cell_type": "code",
   "execution_count": 54,
   "id": "8f925274-714d-411f-9bcd-f5dcc69c8dd1",
   "metadata": {},
   "outputs": [
    {
     "name": "stdout",
     "output_type": "stream",
     "text": [
      "RMSE: [3.38 0.48]\n",
      "Ext - IMSE: 0.0622\n"
     ]
    }
   ],
   "source": [
    "#Powexp interpolated grid\n",
    "get_abc_metrics(true_params, [r,s], model)"
   ]
  },
  {
   "cell_type": "code",
   "execution_count": 13,
   "id": "4786399b-e6db-4a50-8ed6-fde07ef518a9",
   "metadata": {},
   "outputs": [
    {
     "name": "stdout",
     "output_type": "stream",
     "text": [
      "RMSE: [2.62 0.45]\n",
      "Ext - IMSE: 0.5918\n"
     ]
    }
   ],
   "source": [
    "#Test with n_each = 25\n",
    "get_abc_metrics(true_params, [r,s], model)"
   ]
  },
  {
   "cell_type": "markdown",
   "id": "720049a3-9bf2-4cd3-93c9-9c4983b03881",
   "metadata": {},
   "source": [
    "# Compare"
   ]
  },
  {
   "cell_type": "code",
   "execution_count": 41,
   "id": "2dffca9a-7b21-4ffc-9f57-a1f437ecf2b4",
   "metadata": {},
   "outputs": [],
   "source": [
    "i = 24"
   ]
  },
  {
   "cell_type": "code",
   "execution_count": 42,
   "id": "df9bf6e2-580c-46af-9bd7-20df666d8a4f",
   "metadata": {},
   "outputs": [],
   "source": [
    "x = np.linspace(0,40,400)\n",
    "model = \"brown\"\n",
    "corr_true = extremal_coefficient(x, model, true_params[i,0], true_params[i,1])\n",
    "corr_abc = abc_ext_func(x, model, r[i], s[i])"
   ]
  },
  {
   "cell_type": "code",
   "execution_count": 43,
   "id": "d05fc8ce-30b7-46df-bbc2-5895af6fe735",
   "metadata": {},
   "outputs": [
    {
     "data": {
      "text/plain": [
       "<matplotlib.legend.Legend at 0x1fa449623d0>"
      ]
     },
     "execution_count": 43,
     "metadata": {},
     "output_type": "execute_result"
    },
    {
     "data": {
      "image/png": "[encoded data removed]",
      "text/plain": [
       "<Figure size 640x480 with 1 Axes>"
      ]
     },
     "metadata": {},
     "output_type": "display_data"
    }
   ],
   "source": [
    "plt.plot(x, corr_true, label = \"true\")\n",
    "plt.plot(x, corr_abc, label = \"abc\")\n",
    "plt.legend()"
   ]
  },
  {
   "cell_type": "code",
   "execution_count": 58,
   "id": "c2b4d12b-b964-4b8b-81d6-e456480f64f6",
   "metadata": {},
   "outputs": [
    {
     "data": {
      "text/plain": [
       "0.14718798211392928"
      ]
     },
     "execution_count": 58,
     "metadata": {},
     "output_type": "execute_result"
    }
   ],
   "source": [
    "np.power(true_params[i,0]-abc_mean[i,0],2)"
   ]
  },
  {
   "cell_type": "code",
   "execution_count": 59,
   "id": "ffec70c6-1a12-4f15-8723-c717cde357db",
   "metadata": {},
   "outputs": [
    {
     "data": {
      "text/plain": [
       "0.005720401835078797"
      ]
     },
     "execution_count": 59,
     "metadata": {},
     "output_type": "execute_result"
    }
   ],
   "source": [
    "np.power(true_params[i,1]-abc_mean[i,1],2)"
   ]
  },
  {
   "cell_type": "code",
   "execution_count": null,
   "id": "987801be-9774-421e-ad9c-931e397e8fc5",
   "metadata": {},
   "outputs": [],
   "source": []
  }
 ],
 "metadata": {
  "kernelspec": {
   "display_name": "Python 3 (ipykernel)",
   "language": "python",
   "name": "python3"
  },
  "language_info": {
   "codemirror_mode": {
    "name": "ipython",
    "version": 3
   },
   "file_extension": ".py",
   "mimetype": "text/x-python",
   "name": "python",
   "nbconvert_exporter": "python",
   "pygments_lexer": "ipython3",
   "version": "3.11.3"
  }
 },
 "nbformat": 4,
 "nbformat_minor": 5
}
