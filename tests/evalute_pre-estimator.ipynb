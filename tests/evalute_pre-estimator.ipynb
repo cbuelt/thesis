{
 "cells": [
  {
   "cell_type": "code",
   "execution_count": 1,
   "id": "33059f96-6d5e-4144-808f-9eaa1be2af9e",
   "metadata": {},
   "outputs": [],
   "source": [
    "import numpy as np\n",
    "import matplotlib.pyplot as plt\n",
    "import properscoring as ps\n",
    "import pyreadr\n",
    "from isodisreg import idr\n",
    "import pandas as pd\n",
    "from scipy.integrate import quad\n",
    "import scipy as sc\n",
    "from matplotlib.patches import Ellipse"
   ]
  },
  {
   "cell_type": "code",
   "execution_count": 2,
   "id": "f8d515f0-cc10-420a-b3fc-c950524b00c5",
   "metadata": {},
   "outputs": [],
   "source": [
    "def corr_func(h, method, r, s):\n",
    "    if method==\"brown\":\n",
    "        res = np.power((h/r),s)\n",
    "    elif method==\"powexp\":\n",
    "        res = np.exp(-np.power((h/r),s))        \n",
    "    elif method == \"whitmat\":\n",
    "        res = np.power(2, (1-s))/sc.special.gamma(s)*\\\n",
    "              np.power((h/r),2)*sc.special.kv(s, (h/r))\n",
    "    return res    "
   ]
  },
  {
   "cell_type": "code",
   "execution_count": 3,
   "id": "fe38b748-eaa1-4e11-9682-99a9406d2ac2",
   "metadata": {
    "tags": []
   },
   "outputs": [],
   "source": [
    "def extremal_coefficient(h, method, r, s):\n",
    "    if method==\"brown\":\n",
    "        res = 2*sc.stats.norm.cdf(np.sqrt(corr_func(h, method, r, s))/2,loc = 0, scale = 1)    \n",
    "    else:\n",
    "        res = 1+np.sqrt(1-corr_func(h, method, r, s)/2)        \n",
    "    return res    "
   ]
  },
  {
   "cell_type": "code",
   "execution_count": 4,
   "id": "92969cd5-9a51-4db9-82fe-c44cb63d72ba",
   "metadata": {},
   "outputs": [],
   "source": [
    "def error_function(h, model, method, true, est):\n",
    "    r_true, s_true = true\n",
    "    r_est, s_est = est\n",
    "    if method == \"corr\":\n",
    "        error = np.power(corr_func(h, model, r_true, s_true)- corr_func(h, model, r_est, s_est),2)\n",
    "    elif method ==\"ext\":\n",
    "        error = np.power(extremal_coefficient(h, model, r_true, s_true)- extremal_coefficient(h, model, r_est, s_est),2)\n",
    "    return error"
   ]
  },
  {
   "cell_type": "code",
   "execution_count": 5,
   "id": "a57caa3f-9156-457f-ba7e-6be02ae663fe",
   "metadata": {},
   "outputs": [],
   "source": [
    "def get_imse(data, model, method):\n",
    "    pred = data[0:2]\n",
    "    params = data[2:4]\n",
    "    error, _ = quad(error_function, 0, 40, args = (model, method, pred, params))\n",
    "    return error"
   ]
  },
  {
   "cell_type": "code",
   "execution_count": 6,
   "id": "584b76cf-79a4-42bf-bce9-4ac82326b0bb",
   "metadata": {},
   "outputs": [],
   "source": [
    "def get_metrics(pred, param, model):\n",
    "    rmse = np.sqrt(np.mean((np.power(pred-param,2)), axis = 0))\n",
    "    mae = np.mean(np.abs(pred-param), axis = 0)\n",
    "    bias = np.mean(pred-param, axis = 0)\n",
    "    imse_ext = np.mean(np.array([get_imse(x, model, \"ext\") for x in np.append(pred, param, axis = 1)]))\n",
    "    \n",
    "    \n",
    "    print(f\"RMSE: {np.round(rmse,2)}\")\n",
    "    #print(f\"MAE: {np.round(mae,2)}\")\n",
    "    print(f\"Ext - IMSE: {np.round(imse_ext,4)}\")\n",
    "    \n",
    "    #print(f\"Bias: {np.round(bias,2)}\")"
   ]
  },
  {
   "cell_type": "code",
   "execution_count": 7,
   "id": "d9fef29d-4aed-47ef-9a2f-47bee9c30491",
   "metadata": {},
   "outputs": [],
   "source": [
    "def interval_score(\n",
    "    observations,\n",
    "    alpha,\n",
    "    q_left=None,\n",
    "    q_right=None,\n",
    "):\n",
    "\n",
    "    sharpness = q_right - q_left\n",
    "    calibration = (\n",
    "        (\n",
    "            np.clip(q_left - observations, a_min=0, a_max=None)\n",
    "            + np.clip(observations - q_right, a_min=0, a_max=None)\n",
    "        )\n",
    "        * 2\n",
    "        / alpha\n",
    "    )\n",
    "    total = sharpness + calibration\n",
    "    return total, sharpness, calibration"
   ]
  },
  {
   "cell_type": "markdown",
   "id": "1b7ae4c7-cba9-428d-ac3f-31b90611f887",
   "metadata": {},
   "source": [
    "# Interval score"
   ]
  },
  {
   "cell_type": "code",
   "execution_count": 314,
   "id": "8cbb8619-05b9-41ce-9725-3aeb454adfe1",
   "metadata": {},
   "outputs": [],
   "source": [
    "exp = \"exp_6\"\n",
    "data_path = f'../data/{exp}/data/'\n",
    "result_path = f'../data/{exp}/results/'"
   ]
  },
  {
   "cell_type": "code",
   "execution_count": 315,
   "id": "204e8fbe-f6c8-4359-b947-9aa8628198e8",
   "metadata": {},
   "outputs": [],
   "source": [
    "# 0 - Brown, 1 - Powexp, 2 - Whitmat\n",
    "model = 1"
   ]
  },
  {
   "cell_type": "code",
   "execution_count": 316,
   "id": "507077b8-10fd-446a-a547-f8b91f61dd51",
   "metadata": {},
   "outputs": [],
   "source": [
    "test_predictions = np.load(result_path+f\"cnn_interval_all_test.npy\")\n",
    "test_parameters = np.load(data_path+f\"test_params.npy\")\n",
    "\n",
    "#test_predictions = test_predictions[:,(model)*500:(model+1)*500]\n",
    "#test_parameters = test_parameters[test_parameters[:,2] == model]\n",
    "\n",
    "test_samples = test_parameters.shape[0]"
   ]
  },
  {
   "cell_type": "markdown",
   "id": "2b246bea-e50f-4edf-b560-689378ed4a43",
   "metadata": {},
   "source": [
    "## Computed scores and coverage"
   ]
  },
  {
   "cell_type": "code",
   "execution_count": 317,
   "id": "01f87cf6-a8da-4349-986f-593ad5d2747f",
   "metadata": {
    "tags": []
   },
   "outputs": [],
   "source": [
    "r_lower = test_predictions[0,:,0]\n",
    "r_upper = test_predictions[1,:,0]\n",
    "s_lower = test_predictions[0,:,1]\n",
    "s_upper = test_predictions[1,:,1]"
   ]
  },
  {
   "cell_type": "code",
   "execution_count": 318,
   "id": "78eb6983-c6d1-4194-83cb-d8fb401af5b5",
   "metadata": {},
   "outputs": [],
   "source": [
    "r_coverage = np.sum((test_parameters[:,0] >= r_lower) & ((test_parameters[:,0] <= r_upper)))/test_samples*100\n",
    "s_coverage = np.sum((test_parameters[:,1] >= s_lower) & ((test_parameters[:,1] <= s_upper)))/test_samples*100"
   ]
  },
  {
   "cell_type": "code",
   "execution_count": 319,
   "id": "25871276-3e31-44c7-a11b-f4576e25457c",
   "metadata": {},
   "outputs": [],
   "source": [
    "alpha = 0.1\n",
    "r_is, _, _ = interval_score(test_parameters[:,0], alpha, r_lower, r_upper)\n",
    "r_is = np.mean(r_is)\n",
    "s_is, _, _ = interval_score(test_parameters[:,1], alpha, s_lower, s_upper)\n",
    "s_is = np.mean(s_is)"
   ]
  },
  {
   "cell_type": "code",
   "execution_count": 320,
   "id": "d5f4cbf2-b3df-4d94-a042-5121043ed9af",
   "metadata": {},
   "outputs": [
    {
     "data": {
      "text/plain": [
       "13.575915336608887"
      ]
     },
     "execution_count": 320,
     "metadata": {},
     "output_type": "execute_result"
    }
   ],
   "source": [
    "r_upper.max()"
   ]
  },
  {
   "cell_type": "code",
   "execution_count": 321,
   "id": "12548a49-3fd0-491c-8c46-540d74910b35",
   "metadata": {},
   "outputs": [
    {
     "name": "stdout",
     "output_type": "stream",
     "text": [
      "Model: 1\n",
      "Coverage 75.60%, 89.13% \n",
      "IS: 9.9110, 1.8637\n"
     ]
    }
   ],
   "source": [
    "print(f\"Model: {model}\\nCoverage {r_coverage:.2f}%, {s_coverage:.2f}% \\nIS: {r_is:.4f}, {s_is:.4f}\")"
   ]
  },
  {
   "cell_type": "code",
   "execution_count": 322,
   "id": "d905da22-9059-4de5-b293-a45f845a9a64",
   "metadata": {},
   "outputs": [
    {
     "data": {
      "text/plain": [
       "<matplotlib.legend.Legend at 0x1d4b24b7810>"
      ]
     },
     "execution_count": 322,
     "metadata": {},
     "output_type": "execute_result"
    },
    {
     "data": {
      "image/png": "[encoded data removed]",
      "text/plain": [
       "<Figure size 1200x800 with 12 Axes>"
      ]
     },
     "metadata": {},
     "output_type": "display_data"
    }
   ],
   "source": [
    "samples = np.random.randint(0,test_samples,12)\n",
    "fig, axs = plt.subplots(3,4,figsize = (12,8))\n",
    "axs = axs.ravel()\n",
    "for x,i in enumerate(samples):\n",
    "    axs[x].scatter(test_parameters[i,0], test_parameters[i,1], marker = \"o\", label = \"True parameters\")\n",
    "    #axs[x].scatter(prediction[i,0], prediction[i,1], marker = \"x\", label = \"Prediction\")\n",
    "    \n",
    "    anchor = (test_predictions[0,i,0], test_predictions[0,i,1])\n",
    "    rectangle = plt.Rectangle(anchor, (test_predictions[1,i,0]-test_predictions[0,i,0]), (test_predictions[1,i,1]-test_predictions[0,i,1]), fc='blue', label = \"Prediction Interval\", alpha = 0.3)\n",
    "    axs[x].add_patch(rectangle)\n",
    "    axs[x].set_xlim(0,10)\n",
    "    axs[x].set_ylim(0,2)\n",
    "    axs[x].set_title(f\"{i}\")\n",
    "axs[x].legend([\"True parameters\", \"Prediction Interval\"])"
   ]
  },
  {
   "cell_type": "code",
   "execution_count": null,
   "id": "5557f692-0fc5-4336-a36d-3702b1148636",
   "metadata": {},
   "outputs": [],
   "source": []
  }
 ],
 "metadata": {
  "kernelspec": {
   "display_name": "Python 3 (ipykernel)",
   "language": "python",
   "name": "python3"
  },
  "language_info": {
   "codemirror_mode": {
    "name": "ipython",
    "version": 3
   },
   "file_extension": ".py",
   "mimetype": "text/x-python",
   "name": "python",
   "nbconvert_exporter": "python",
   "pygments_lexer": "ipython3",
   "version": "3.11.3"
  }
 },
 "nbformat": 4,
 "nbformat_minor": 5
}
