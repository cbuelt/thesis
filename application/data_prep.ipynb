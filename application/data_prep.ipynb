{
 "cells": [
  {
   "cell_type": "code",
   "execution_count": 1,
   "metadata": {},
   "outputs": [],
   "source": [
    "import numpy as np \n",
    "import xarray as xr\n",
    "import matplotlib.pyplot as plt\n",
    "from pyresample.geometry import AreaDefinition\n",
    "from pyresample.geometry import SwathDefinition\n",
    "from pyresample import kd_tree"
   ]
  },
  {
   "cell_type": "markdown",
   "metadata": {},
   "source": [
    "# Load data"
   ]
  },
  {
   "cell_type": "code",
   "execution_count": 2,
   "metadata": {},
   "outputs": [],
   "source": [
    "path = \"../../data/application/\"\n"
   ]
  },
  {
   "cell_type": "code",
   "execution_count": 3,
   "metadata": {},
   "outputs": [],
   "source": [
    "# Define original area\n",
    "projection = \"+proj=lcc +lat_1=35 +lat_2=65 +lat_0=52 +lon_0=10 +x_0=4000000 +y_0=2800000 +ellps=GRS80 +towgs84=0,0,0,0,0,0,0 +units=m +no_defs\"\n",
    "width = 1200\n",
    "height = 1100\n",
    "area_extent = (3500000, 2100000, 4700000, 3200000)\n",
    "area_def = AreaDefinition('original', 'Original grid', 'id', projection,width, height, area_extent)\n",
    "\n",
    "# Define target grid\n",
    "lons = np.linspace(6.38,7.48,30)\n",
    "lats = np.linspace(50.27,50.97,30)\n",
    "lon2d, lat2d = np.meshgrid(lons, lats)\n",
    "target_grid = SwathDefinition(lons = lon2d, lats = lat2d)"
   ]
  },
  {
   "cell_type": "code",
   "execution_count": 4,
   "metadata": {},
   "outputs": [],
   "source": [
    "# Functions for projection, interpolation and monthly maximum\n",
    "\n",
    "def downsample(data, area_def, target_grid):\n",
    "    result = kd_tree.resample_nearest(\n",
    "        area_def, data, target_grid, radius_of_influence=50000, epsilon=0.5\n",
    "    )\n",
    "    return result\n",
    "\n",
    "\n",
    "def xr_downsample(data, area_def, target_grid):\n",
    "    result = xr.apply_ufunc(\n",
    "        downsample,\n",
    "        data,\n",
    "        area_def,\n",
    "        target_grid,\n",
    "        input_core_dims=[[\"y\", \"x\", \"time\"], [], []],\n",
    "        output_core_dims=[[\"y\", \"x\", \"time\"]],\n",
    "        exclude_dims=set((\"x\", \"y\")),\n",
    "        vectorize = True,\n",
    "        dask = \"allowed\"\n",
    "    )\n",
    "    return result.max(dim = [\"time\"])\n",
    "\n",
    "\n",
    "def transform_data(data, area_def, target_grid, year = \"\"):\n",
    "    transformed_data = data.resample(time = \"1MS\").apply(xr_downsample, args = (area_def, target_grid))\n",
    "    transformed_data = transformed_data.isel(time=(transformed_data.time.dt.month.isin([6,7,8])))\n",
    "    xr.Dataset({\"pr\":transformed_data}).to_netcdf(f\"../../data/application/{year}_month_max.nc\")"
   ]
  },
  {
   "cell_type": "code",
   "execution_count": 5,
   "metadata": {},
   "outputs": [],
   "source": [
    "# Training data\n",
    "raw_data = xr.open_dataset(path + \"1931_2020_raw.nc\")\n",
    "data = raw_data.pr.isel(time=(raw_data.time.dt.month.isin([6,7,8])))\n",
    "transform_data(data, area_def, target_grid, year = \"1931_2020\")\n",
    "\n",
    "# 2021\n",
    "raw_data = xr.open_dataset(path + \"2021_raw.nc\")\n",
    "data = raw_data.pr.isel(time=(raw_data.time.dt.month.isin([6,7,8])))\n",
    "transform_data(data, area_def, target_grid, year = \"2021\")\n",
    "\n",
    "# 2022\n",
    "raw_data = xr.open_dataset(path + \"2022_raw.nc\")\n",
    "data = raw_data.pr.isel(time=(raw_data.time.dt.month.isin([6,7,8])))\n",
    "transform_data(data, area_def, target_grid, year = \"2022\")"
   ]
  },
  {
   "cell_type": "code",
   "execution_count": null,
   "metadata": {},
   "outputs": [],
   "source": []
  }
 ],
 "metadata": {
  "kernelspec": {
   "display_name": "ma",
   "language": "python",
   "name": "python3"
  },
  "language_info": {
   "codemirror_mode": {
    "name": "ipython",
    "version": 3
   },
   "file_extension": ".py",
   "mimetype": "text/x-python",
   "name": "python",
   "nbconvert_exporter": "python",
   "pygments_lexer": "ipython3",
   "version": "3.11.5"
  }
 },
 "nbformat": 4,
 "nbformat_minor": 2
}
